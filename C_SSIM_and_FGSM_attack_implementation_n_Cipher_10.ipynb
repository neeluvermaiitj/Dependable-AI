{
  "nbformat": 4,
  "nbformat_minor": 0,
  "metadata": {
    "accelerator": "GPU",
    "colab": {
      "name": "C. SSIM and FGSM attack implementation n Cipher 10.ipynb",
      "provenance": [],
      "collapsed_sections": [],
      "include_colab_link": true
    },
    "kernelspec": {
      "display_name": "Python 3",
      "name": "python3"
    }
  },
  "cells": [
    {
      "cell_type": "markdown",
      "metadata": {
        "id": "view-in-github",
        "colab_type": "text"
      },
      "source": [
        "<a href=\"https://colab.research.google.com/github/neeluvermaiitj/Dependable-AI/blob/main/C_SSIM_and_FGSM_attack_implementation_n_Cipher_10.ipynb\" target=\"_parent\"><img src=\"https://colab.research.google.com/assets/colab-badge.svg\" alt=\"Open In Colab\"/></a>"
      ]
    },
    {
      "cell_type": "code",
      "metadata": {
        "colab": {
          "base_uri": "https://localhost:8080/"
        },
        "id": "ah1eLcbazD-F",
        "outputId": "3561112a-d65e-465c-a912-19264a3223e1"
      },
      "source": [
        "# mount google drive\n",
        "from google.colab import drive\n",
        "drive.mount('/content/gdrive')\n"
      ],
      "execution_count": null,
      "outputs": [
        {
          "output_type": "stream",
          "text": [
            "Mounted at /content/gdrive\n"
          ],
          "name": "stdout"
        }
      ]
    },
    {
      "cell_type": "markdown",
      "metadata": {
        "id": "BEE17DgdVsMr"
      },
      "source": [
        "# Mean SSIM "
      ]
    },
    {
      "cell_type": "code",
      "metadata": {
        "id": "-_Zyuqg3Vv10"
      },
      "source": [
        "  from skimage.measure import compare_ssim\n",
        "  from keras.datasets import cifar10\n",
        "  import scipy.io as sio\n",
        "  from scipy.io import loadmat\n",
        "  import numpy as np\n",
        "  import matplotlib.pyplot as plt\n",
        "  from  statistics import mean\n",
        "  from keras.utils import to_categorical\n",
        "  "
      ],
      "execution_count": null,
      "outputs": []
    },
    {
      "cell_type": "code",
      "metadata": {
        "colab": {
          "base_uri": "https://localhost:8080/"
        },
        "id": "cdN46BrZm2GF",
        "outputId": "85811523-88f9-4db8-cf64-9e08047cf559"
      },
      "source": [
        "  \n",
        "  def meanSSIM(xtest,xtestadv):      \n",
        "    ssim_linf = []\n",
        "    assert len(xtestadv) == len(xtest)\n",
        "    for i in range(len(xtestadv)):\n",
        "            score = compare_ssim(xtest[i], xtestadv[i], full = True, multichannel = True)[0]\n",
        "            ssim_linf.append(score)\n",
        "\n",
        "    print(\"SSIM: {}\".format(mean(ssim_linf)))  \n",
        "  \n",
        "  def prep_pixels(train, test):\n",
        "      # convert from integers to floats\n",
        "      train_norm = train.astype('float32')\n",
        "      test_norm = test.astype('float32')\n",
        "      # normalize to range 0-1\n",
        "      train_norm = train_norm / 255.0\n",
        "      test_norm = test_norm / 255.0\n",
        "      # return normalized images\n",
        "      return train_norm, test_norm \n",
        "  def load_dataset():\n",
        "    # load dataset\n",
        "    (trainX, trainY), (testX, testY) = cifar10.load_data()\n",
        "    # one hot encode target values\n",
        "    trainY = to_categorical(trainY)\n",
        "    testY = to_categorical(testY)\n",
        "    return trainX, trainY,testX, testY\n",
        "\n",
        "  # define cnn model  \n",
        "  def dataset_SSIM_comparision():  \n",
        "        # load dataset\n",
        "        trainX, trainY, testX, testY = load_dataset()\n",
        "        # prepare pixel data\n",
        "        trainX, testX = prep_pixels(trainX, testX)\n",
        "\n",
        "        MAT_save_name = 'fgsm_cnn_pert.mat'\n",
        "        path = F\"/content/drive/MyDrive/Colab Notebooks/DAI_Assignment2/cifar10_code{MAT_save_name}\"\n",
        "        annots = loadmat(path)\n",
        "        annots.keys()  \n",
        "        testXadv = annots['mydata']\n",
        "        \n",
        "        print(\"SSIM for FGSM attack test dataset\")\n",
        "        meanSSIM(testX,testXadv)\n",
        "\n",
        "        MAT_save_name = 'testXlinf_cnn_pert.mat'\n",
        "        path = F\"/content/drive/MyDrive/Colab Notebooks/DAI_Assignment2/cifar10_code/{MAT_save_name}\"\n",
        "        annots = loadmat(path)\n",
        "        annots.keys()  \n",
        "        testXlinf = annots['mydata']\n",
        "\n",
        "        print(\"SSIM for L-Infinity attack test dataset\")\n",
        "        meanSSIM(testX,testXlinf)\n",
        "dataset_SSIM_comparision()"
      ],
      "execution_count": null,
      "outputs": [
        {
          "output_type": "stream",
          "text": [
            "SSIM for FGSM attack test dataset\n"
          ],
          "name": "stdout"
        },
        {
          "output_type": "stream",
          "text": [
            "/usr/local/lib/python3.6/dist-packages/ipykernel_launcher.py:16: UserWarning: DEPRECATED: skimage.measure.compare_ssim has been moved to skimage.metrics.structural_similarity. It will be removed from skimage.measure in version 0.18.\n",
            "  app.launch_new_instance()\n"
          ],
          "name": "stderr"
        },
        {
          "output_type": "stream",
          "text": [
            "SSIM: 0.887160451023763\n",
            "SSIM for L-Infinity attack test dataset\n",
            "SSIM: 0.9988452896991549\n"
          ],
          "name": "stdout"
        }
      ]
    }
  ]
}